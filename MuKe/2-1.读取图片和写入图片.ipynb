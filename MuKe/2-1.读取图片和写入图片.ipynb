{
 "cells": [
  {
   "cell_type": "code",
   "execution_count": 1,
   "metadata": {
    "collapsed": true
   },
   "outputs": [
    {
     "data": {
      "text/plain": "-1"
     },
     "execution_count": 1,
     "metadata": {},
     "output_type": "execute_result"
    }
   ],
   "source": [
    "\n",
    "import cv2\n",
    "# cv2.imread => 读取图片, 第一个参数是文件名, 第二参数是 1 表示彩色图片, 0 表示灰色图片\n",
    "# 1 文件读取 2.封装格式解析 3.数据解码 4.数据加载\n",
    "\n",
    "#   jpg, png... 文件头不同, 文件数据解码方式也不同, 将压缩编码的数据还原\n",
    "img = cv2.imread(\"E:\\\\project\\\\python\\\\Tensorflow\\\\MuKe\\\\tmp\\\\image0.jpg\", 1)\n",
    "\n",
    "# cv2.imshow => 展示图片,  第一个参数是窗体名称, 第二个是窗体内容\n",
    "cv2.imshow('image', img)\n",
    "# stop\n",
    "cv2.waitKey(0)"
   ]
  },
  {
   "cell_type": "code",
   "execution_count": 4,
   "outputs": [
    {
     "data": {
      "text/plain": "True"
     },
     "execution_count": 4,
     "metadata": {},
     "output_type": "execute_result"
    }
   ],
   "source": [
    "# 文件写入\n",
    "# cv2.imwrite => 写入图片, 第一个参数是文件名, 第二参数是文件数据(原始数据), 第三个参数控制图片质量, 范围从0-100\n",
    "cv2.imwrite(\"E:\\\\project\\\\python\\\\Tensorflow\\\\MuKe\\\\tmp\\\\image1.jpg\",img)"
   ],
   "metadata": {
    "collapsed": false,
    "pycharm": {
     "name": "#%%\n"
    }
   }
  },
  {
   "cell_type": "code",
   "execution_count": 5,
   "outputs": [
    {
     "data": {
      "text/plain": "True"
     },
     "execution_count": 5,
     "metadata": {},
     "output_type": "execute_result"
    }
   ],
   "source": [
    "# 第三个参数控制图片质量范围从0-100, 有损压缩, 是牺牲图片质量为代价, 数字越小压缩比越高\n",
    "cv2.imwrite(\"E:\\\\project\\\\python\\\\Tensorflow\\\\MuKe\\\\tmp\\\\image1_Test.jpg\", img, [cv2.IMWRITE_JPEG_QUALITY, 50])"
   ],
   "metadata": {
    "collapsed": false,
    "pycharm": {
     "name": "#%%\n"
    }
   }
  },
  {
   "cell_type": "code",
   "execution_count": 7,
   "outputs": [
    {
     "data": {
      "text/plain": "True"
     },
     "execution_count": 7,
     "metadata": {},
     "output_type": "execute_result"
    }
   ],
   "source": [
    "# png 为无损压缩, 保存时候可以调整透明度, 数字越小压缩比越低, 范围从0-9\n",
    "cv2.imwrite(\"E:\\\\project\\\\python\\\\Tensorflow\\\\MuKe\\\\tmp\\\\image1_Test.png\", img, [cv2.IMWRITE_PNG_COMPRESSION, 0])"
   ],
   "metadata": {
    "collapsed": false,
    "pycharm": {
     "name": "#%%\n"
    }
   }
  },
  {
   "cell_type": "code",
   "execution_count": 8,
   "outputs": [
    {
     "name": "stdout",
     "output_type": "stream",
     "text": [
      "39 46 49\n"
     ]
    }
   ],
   "source": [
    "# 像素点读取\n",
    "(b, g, r) = img[100, 100]\n",
    "print(b, g, r)"
   ],
   "metadata": {
    "collapsed": false,
    "pycharm": {
     "name": "#%%\n"
    }
   }
  },
  {
   "cell_type": "code",
   "execution_count": 10,
   "outputs": [
    {
     "data": {
      "text/plain": "-1"
     },
     "execution_count": 10,
     "metadata": {},
     "output_type": "execute_result"
    }
   ],
   "source": [
    "# 像素点写入\n",
    "# 10, 100 --- 110, 100\n",
    "img_test = img\n",
    "for i in range(1, 100):\n",
    "    img_test[10 + i, 100] = (255, 0 , 0)\n",
    "    img_test[10, 100 + i] = (0, 255, 0)\n",
    "cv2.imshow('image', img_test)\n",
    "cv2.waitKey(0)"
   ],
   "metadata": {
    "collapsed": false,
    "pycharm": {
     "name": "#%%\n"
    }
   }
  },
  {
   "cell_type": "code",
   "execution_count": null,
   "outputs": [],
   "source": [
    "\n"
   ],
   "metadata": {
    "collapsed": false,
    "pycharm": {
     "name": "#%%\n"
    }
   }
  }
 ],
 "metadata": {
  "kernelspec": {
   "name": "pycharm-5d798be8",
   "language": "python",
   "display_name": "PyCharm (machineLearning)"
  },
  "language_info": {
   "codemirror_mode": {
    "name": "ipython",
    "version": 2
   },
   "file_extension": ".py",
   "mimetype": "text/x-python",
   "name": "python",
   "nbconvert_exporter": "python",
   "pygments_lexer": "ipython2",
   "version": "2.7.6"
  }
 },
 "nbformat": 4,
 "nbformat_minor": 0
}