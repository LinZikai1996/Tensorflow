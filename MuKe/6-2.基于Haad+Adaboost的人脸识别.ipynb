{
 "metadata": {
  "language_info": {
   "codemirror_mode": {
    "name": "ipython",
    "version": 3
   },
   "file_extension": ".py",
   "mimetype": "text/x-python",
   "name": "python",
   "nbconvert_exporter": "python",
   "pygments_lexer": "ipython3",
   "version": "3.7.6-final"
  },
  "orig_nbformat": 2,
  "kernelspec": {
   "name": "python3",
   "display_name": "Python 3",
   "language": "python"
  }
 },
 "nbformat": 4,
 "nbformat_minor": 2,
 "cells": [
  {
   "cell_type": "code",
   "execution_count": 5,
   "metadata": {},
   "outputs": [],
   "source": [
    "#  1.haar 特征    => 像素经过运算后得到的某个结果 （具体值，向量，矩阵，多维数据）\n",
    "#  2.区分目标     => 阈值判决\n",
    "#  3.如何得到判决 => 机器学习\n",
    "# \n",
    "#  公式推导\n",
    "#   特征 = 整个区域 * 权重1 + 黑色部分 * 权重2 = (黑 + 白) * w1 + 黑 * w2\n",
    "#   设 w1 = 1, w2  = 2, => 带入 黑 + 白 - 2黑 = 白 - 黑 \n",
    "\n",
    "#  4. haar的使用 => 要便利整个图片，从上到下，从左到右，还要考虑图片大小，模板大小\n",
    "#                          例如: 图片 100 * 100 ，模板 10 * 10，步长 10，模板1（可以滑动，缩放）\n",
    "#  设 1080 * 720 像素， 步长为 2，模板 10 * 10\n",
    "#  计算量 = 14 （模板数量） * 20 （20级缩放） * （1080 / 2） * (720 / 2) * (100 +-) * 15（实时）= 50 -100亿次 * 15 = 1000亿次\n",
    "\n",
    "#  5. 积分图\n"
   ]
  },
  {
   "cell_type": "code",
   "execution_count": 6,
   "metadata": {},
   "outputs": [
    {
     "output_type": "stream",
     "name": "stdout",
     "text": [
      "face= 1\neye= 2\n"
     ]
    },
    {
     "output_type": "execute_result",
     "data": {
      "text/plain": [
       "-1"
      ]
     },
     "metadata": {},
     "execution_count": 6
    }
   ],
   "source": [
    "import cv2\n",
    "import numpy as np\n",
    "# load xml 1 file name\n",
    "face_xml = cv2.CascadeClassifier(\"E:\\\\project\\\\python\\\\Tensorflow\\\\MuKe\\\\xml\\\\haarcascade_frontalface_default.xml\")\n",
    "eye_xml = cv2.CascadeClassifier(\"E:\\\\project\\\\python\\\\Tensorflow\\\\MuKe\\\\xml\\\\haarcascade_eye.xml\")\n",
    "\n",
    "# load jpg\n",
    "img = cv2.imread(\"E:\\\\project\\\\python\\\\Tensorflow\\\\MuKe\\\\pic\\\\face.jpg\")\n",
    "cv2.imshow('src',img)\n",
    "\n",
    "# haar gray\n",
    "gray = cv2.cvtColor(img,cv2.COLOR_BGR2GRAY)\n",
    "# detect faces 1 data 2 scale 3 5\n",
    "faces = face_xml.detectMultiScale(gray, 1.3, 5)\n",
    "print('face=',len(faces))\n",
    "\n",
    "# draw\n",
    "for (x,y,w,h) in faces:\n",
    "    cv2.rectangle(img,(x,y),(x+w,y+h),(255,0,0),2)\n",
    "    roi_face = gray[y:y+h,x:x+w]\n",
    "    roi_color = img[y:y+h,x:x+w]\n",
    "    # 1 gray\n",
    "    eyes = eye_xml.detectMultiScale(roi_face)\n",
    "    print('eye=',len(eyes))\n",
    "    for (e_x,e_y,e_w,e_h) in eyes:\n",
    "        cv2.rectangle(roi_color,(e_x,e_y),(e_x+e_w,e_y+e_h),(0,255,0),2)\n",
    "cv2.imshow('dst',img)\n",
    "cv2.waitKey(0)\n"
   ]
  },
  {
   "cell_type": "code",
   "execution_count": 5,
   "metadata": {},
   "outputs": [
    {
     "output_type": "stream",
     "name": "stdout",
     "text": [
      "(10, 2)\n[[167.  55.]\n [162.  57.]]\n[[0.]\n [1.]]\n"
     ]
    }
   ],
   "source": [
    "# 身高体重 训练 预测 \n",
    "import cv2\n",
    "import numpy as np\n",
    "import matplotlib.pyplot as plt\n",
    "#1 准备data\n",
    "rand1 = np.array([[155,48],[159,50],[164,53],[168,56],[172,60]])\n",
    "rand2 = np.array([[152,53],[156,55],[160,56],[172,64],[176,65]])\n",
    "\n",
    "# 2 label\n",
    "# [155,48] -- 0 女生 [152,53] ---1  男生\n",
    "label = np.array([[0],[0],[0],[0],[0],[1],[1],[1],[1],[1]])\n",
    "\n",
    "# 3 data\n",
    "data = np.vstack((rand1,rand2))\n",
    "data = np.array(data,dtype='float32')\n",
    "print(data.shape)\n",
    "\n",
    "# 4 训练\n",
    "svm = cv2.ml.SVM_create() # ml  机器学习模块 SVM_create() 创建\n",
    "svm.setType(cv2.ml.SVM_C_SVC) # svm type\n",
    "svm.setKernel(cv2.ml.SVM_LINEAR) # line\n",
    "svm.setC(0.01)\n",
    "\n",
    "# 训练\n",
    "result = svm.train(data, cv2.ml.ROW_SAMPLE, label)\n",
    "\n",
    "# 预测\n",
    "pt_data = np.vstack([[167,55],[162,57]]) #0 女生 1男生\n",
    "pt_data = np.array(pt_data,dtype='float32')\n",
    "print(pt_data)\n",
    "(par1,par2) = svm.predict(pt_data)\n",
    "print(par2)"
   ]
  },
  {
   "cell_type": "code",
   "execution_count": null,
   "metadata": {},
   "outputs": [],
   "source": []
  }
 ]
}