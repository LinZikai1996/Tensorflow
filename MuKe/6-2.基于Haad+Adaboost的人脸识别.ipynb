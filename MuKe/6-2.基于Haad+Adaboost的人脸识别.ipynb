{
 "metadata": {
  "language_info": {
   "codemirror_mode": {
    "name": "ipython",
    "version": 3
   },
   "file_extension": ".py",
   "mimetype": "text/x-python",
   "name": "python",
   "nbconvert_exporter": "python",
   "pygments_lexer": "ipython3",
   "version": 3
  },
  "orig_nbformat": 2
 },
 "nbformat": 4,
 "nbformat_minor": 2,
 "cells": [
  {
   "cell_type": "code",
   "execution_count": null,
   "metadata": {},
   "outputs": [],
   "source": [
    "#  1.haar 特征    => 像素经过运算后得到的某个结果 （具体值，向量，矩阵，多维数据）\n",
    "#  2.区分目标     => 阈值判决\n",
    "#  3.如何得到判决 => 机器学习\n",
    "# \n",
    "#  公式推导\n",
    "#   特征 = 整个区域 * 权重1 + 黑色部分 * 权重2 = (黑 + 白) * w1 + 黑 * w2\n",
    "#   设 w1 = 1, w2  = 2, => 带入 黑 + 白 - 2黑 = 白 - 黑 \n",
    "\n",
    "#  4. haar的使用 => 要便利整个图片，从上到下，从左到右，还要考虑图片大小，模板大小\n",
    "#                          例如: 图片 100 * 100 ，模板 10 * 10，步长 10，模板1（可以滑动，缩放）\n",
    "#  设 1080 * 720 像素， 步长为 2，模板 10 * 10\n",
    "#  计算量 = 14 （模板数量） * 20 （20级缩放） * （1080 / 2） * (720 / 2) * (100 +-) * 15（实时）= 50 -100亿次 * 15 = 1000亿次"
   ]
  }
 ]
}