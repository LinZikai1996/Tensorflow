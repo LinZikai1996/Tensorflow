{
 "metadata": {
  "language_info": {
   "codemirror_mode": {
    "name": "ipython",
    "version": 3
   },
   "file_extension": ".py",
   "mimetype": "text/x-python",
   "name": "python",
   "nbconvert_exporter": "python",
   "pygments_lexer": "ipython3",
   "version": "3.7.6-final"
  },
  "orig_nbformat": 2,
  "kernelspec": {
   "name": "pycharm-5d798be8",
   "display_name": "PyCharm (machineLearning)",
   "language": "python"
  }
 },
 "nbformat": 4,
 "nbformat_minor": 2,
 "cells": [
  {
   "cell_type": "code",
   "execution_count": 1,
   "metadata": {},
   "outputs": [],
   "source": [
    "import cv2"
   ]
  },
  {
   "cell_type": "code",
   "execution_count": 2,
   "metadata": {},
   "outputs": [
    {
     "output_type": "stream",
     "name": "stdout",
     "text": [
      "fps: {fps}, height: {height}， width: {width}\nimage1.jpg\nimage2.jpg\nimage3.jpg\nimage4.jpg\nimage5.jpg\nimage6.jpg\nimage7.jpg\nimage8.jpg\nimage9.jpg\nimage10.jpg\nend\n"
     ]
    }
   ],
   "source": [
    "# 视频分解成图片\n",
    "\n",
    "# cv2.VideoCapture => 获取图片的方法\n",
    "capture = cv2.VideoCapture(\"E:\\\\project\\\\python\\\\Tensorflow\\\\MuKe\\\\video\\\\001.mp4\")\n",
    "# capture.isOpened =>  判断图片是否能打开\n",
    "is_opened = capture.isOpened\n",
    "\n",
    "# 帧数\n",
    "fps = capture.get(cv2.CAP_PROP_FPS)\n",
    "# 宽度和高度\n",
    "width = int(capture.get(cv2.CAP_PROP_FRAME_WIDTH))\n",
    "height = int(capture.get(cv2.CAP_PROP_FRAME_HEIGHT)) \n",
    "\n",
    "# 人眼最低分辨 15 fps\n",
    "print(\"fps: {fps}, height: {height}， width: {width}\")\n",
    "i = 0\n",
    "\n",
    "while(is_opened):\n",
    "    if i == 10:\n",
    "        break\n",
    "    else:\n",
    "        i  = i + 1\n",
    "\n",
    "    # capture.read() => 读取每一帧，flag 是否读取成功，frame 表明图片内容\n",
    "    (flag, frame) = capture.read()   \n",
    "    file_name = \"image\" + str(i) + \".jpg\"\n",
    "    print(file_name)\n",
    "    if flag:\n",
    "        cv2.imwrite(\"E:\\\\project\\\\python\\\\Tensorflow\\\\MuKe\\\\video\\\\\" + file_name, frame, [cv2.IMWRITE_JPEG_QUALITY, 100])\n",
    "\n",
    "print(\"end\")"
   ]
  },
  {
   "cell_type": "code",
   "execution_count": 6,
   "metadata": {},
   "outputs": [
    {
     "output_type": "stream",
     "name": "stdout",
     "text": [
      "(540, 960)\n",
      "end\n"
     ]
    }
   ],
   "source": [
    "# 图片合成视频\n",
    "img = cv2.imread(\"E:\\\\project\\\\python\\\\Tensorflow\\\\MuKe\\\\video\\\\image1.jpg\")\n",
    "img_info = img.shape\n",
    "size = (img_info[1], img_info[0])\n",
    "print(size)\n",
    "\n",
    "# cv2.VideoWriter => 写入图片的方法，第一个参数文件名，第二个参数编码器，第三个参数帧率，第四个参数宽和高\n",
    "video_write = cv2.VideoWriter(\"E:\\\\project\\\\python\\\\Tensorflow\\\\MuKe\\\\video\\\\002.mp4\", -1, 5, size)\n",
    "\n",
    "for i in range(1, 11):\n",
    "    file_name = \"E:\\\\project\\\\python\\\\Tensorflow\\\\MuKe\\\\video\\\\\" + \"image\" + str(i) + \".jpg\"\n",
    "    img = cv2.imread(file_name)\n",
    "    # 写入\n",
    "    video_write.write(img)\n",
    "\n",
    "print('end')"
   ]
  },
  {
   "cell_type": "code",
   "execution_count": null,
   "metadata": {},
   "outputs": [],
   "source": []
  }
 ]
}