{
 "metadata": {
  "language_info": {
   "codemirror_mode": {
    "name": "ipython",
    "version": 3
   },
   "file_extension": ".py",
   "mimetype": "text/x-python",
   "name": "python",
   "nbconvert_exporter": "python",
   "pygments_lexer": "ipython3",
   "version": "3.7.6-final"
  },
  "orig_nbformat": 2,
  "kernelspec": {
   "name": "pycharm-5d798be8",
   "display_name": "PyCharm (machineLearning)",
   "language": "python"
  }
 },
 "nbformat": 4,
 "nbformat_minor": 2,
 "cells": [
  {
   "cell_type": "code",
   "execution_count": 22,
   "metadata": {},
   "outputs": [
    {
     "output_type": "stream",
     "name": "stdout",
     "text": [
      "(547, 730, 3)\n"
     ]
    }
   ],
   "source": [
    "import cv2\n",
    "img = cv2.imread(\"E:\\\\project\\\\python\\\\Tensorflow\\\\MuKe\\\\pic\\\\image0.jpg\", 1)\n",
    "\n",
    "img_info = img.shape\n",
    "print(img_info)\n",
    "# 长，宽，通道\n",
    "height = img_info[0]\n",
    "width = img_info[1]\n",
    "mode = img_info[2]"
   ]
  },
  {
   "cell_type": "code",
   "execution_count": 9,
   "metadata": {},
   "outputs": [
    {
     "output_type": "execute_result",
     "data": {
      "text/plain": [
       "-1"
      ]
     },
     "metadata": {},
     "execution_count": 9
    }
   ],
   "source": [
    "# 1 放大 缩小 2 等比缩放 非等比例缩放\n",
    "dst_height = int(height * 0.5)\n",
    "dst_width = int(width * 0.5)\n",
    "\n",
    "# 四种缩放方式\n",
    "# 最近邻域插值 双线性插值(最常用) 像素关系重采样 立方插值\n",
    "dst = cv2.resize(img, (dst_width, dst_height))\n",
    "cv2.imshow('image', dst)\n",
    "cv2.waitKey(0)"
   ]
  },
  {
   "cell_type": "code",
   "execution_count": 12,
   "metadata": {},
   "outputs": [
    {
     "output_type": "execute_result",
     "data": {
      "text/plain": [
       "-1"
      ]
     },
     "metadata": {},
     "execution_count": 12
    }
   ],
   "source": [
    "# 最近邻域插值(手动实现)\n",
    "# dst 图像上每一个点都可以来自 src 图像上的点 => (2, 4) -> (1, 2)\n",
    "# src_x = new_x * (src_height / dst_height)\n",
    "# src_y = new_y * (src_width / dst_width)\n",
    "# 12.3 取 12 \n",
    "\n",
    "import numpy as np\n",
    "\n",
    "# np.uint8 范围 0 - 255\n",
    "dst_image = np.zeros([dst_height, dst_width, 3], np.uint8)\n",
    "\n",
    "# 行\n",
    "for i in range(0, dst_height):\n",
    "    # 列\n",
    "    for j in range(0, dst_width):\n",
    "        src_i = int(i * (height * 1.0 / dst_height))\n",
    "        src_j = int(j * (width * 1.0 / dst_width))\n",
    "        dst_image[i, j] = img[src_i, src_j]\n",
    "\n",
    "cv2.imshow(\"dst\", dst_image)\n",
    "cv2.waitKey(0)"
   ]
  },
  {
   "cell_type": "code",
   "execution_count": 10,
   "metadata": {},
   "outputs": [
    {
     "output_type": "execute_result",
     "data": {
      "text/plain": [
       "-1"
      ]
     },
     "metadata": {},
     "execution_count": 10
    }
   ],
   "source": [
    "# 图片剪切\n",
    "dst = img[100:300, 100: 300]\n",
    "cv2.imshow(\"dst\", dst)\n",
    "cv2.waitKey(0)"
   ]
  },
  {
   "cell_type": "code",
   "execution_count": 11,
   "metadata": {},
   "outputs": [
    {
     "output_type": "execute_result",
     "data": {
      "text/plain": [
       "-1"
      ]
     },
     "metadata": {},
     "execution_count": 11
    }
   ],
   "source": [
    "# 图片位移\n",
    "# 2 × 3 矩阵 => 2 × 2 A  2 × 1 B\n",
    "# [[1, 0], [0, 1]] A\n",
    "# [[100], [200]]  B\n",
    "# [[x], [y]]     C\n",
    "mat_shift = np.float64([[1, 0, 100], [0, 1, 200]])\n",
    "# cv2.warpAffine => 第一个参数数据信息，第二个参数移位矩阵，第三个图片信息\n",
    "# A * C + B\n",
    "dst = cv2.warpAffine(img, mat_shift, (height, width))\n",
    "cv2.imshow(\"dst\", dst)\n",
    "cv2.waitKey(0)"
   ]
  },
  {
   "cell_type": "code",
   "execution_count": 13,
   "metadata": {},
   "outputs": [
    {
     "output_type": "execute_result",
     "data": {
      "text/plain": [
       "-1"
      ]
     },
     "metadata": {},
     "execution_count": 13
    }
   ],
   "source": [
    "# 图片位移(手动实现)\n",
    "dst = np.zeros(img_info, np.uint8)\n",
    "# 行\n",
    "for i in range(0, height):\n",
    "    # 列\n",
    "    for j in range(0, width  - 100):\n",
    "        dst[i, j + 100] = img[i, j]\n",
    "\n",
    "cv2.imshow(\"dst\", dst)\n",
    "cv2.waitKey(0)"
   ]
  },
  {
   "cell_type": "code",
   "execution_count": 16,
   "metadata": {},
   "outputs": [
    {
     "output_type": "execute_result",
     "data": {
      "text/plain": [
       "-1"
      ]
     },
     "metadata": {},
     "execution_count": 16
    }
   ],
   "source": [
    "# 图片镜像\n",
    "dst_info = (height * 2, width, 3)\n",
    "dst = np.zeros(dst_info, np.uint8)\n",
    "for i in range(0, height):\n",
    "    # 列\n",
    "    for j in range(0, width):\n",
    "        dst[i, j] = img[i, j]\n",
    "        # x = 2 * height - y -1\n",
    "        dst[height * 2 - i -1, j] = img[i, j]\n",
    "\n",
    "for i in range(0, width):\n",
    "    dst[height, i] = (0, 0, 255)\n",
    "cv2.imshow(\"dst\", dst)\n",
    "cv2.waitKey(0)"
   ]
  },
  {
   "cell_type": "code",
   "execution_count": 21,
   "metadata": {},
   "outputs": [
    {
     "output_type": "execute_result",
     "data": {
      "text/plain": [
       "-1"
      ]
     },
     "metadata": {},
     "execution_count": 21
    }
   ],
   "source": [
    "# 图片位移函数实现缩放\n",
    "mat_shift = np.float64([[0.5, 0, 0], [0, 0.5, 0]])\n",
    "\n",
    "dst = cv2.warpAffine(img, mat_shift, (int(width / 2), int(height / 2 )))\n",
    "cv2.imshow(\"dst\", dst)\n",
    "cv2.waitKey(0)"
   ]
  },
  {
   "cell_type": "code",
   "execution_count": 23,
   "metadata": {},
   "outputs": [
    {
     "output_type": "execute_result",
     "data": {
      "text/plain": [
       "-1"
      ]
     },
     "metadata": {},
     "execution_count": 23
    }
   ],
   "source": [
    "# 仿射变化\n",
    "#src 3->dst 3 (左上角 左下角 右上角)\n",
    "matSrc = np.float32([[0,0],[0,height - 1],[width - 1,0]])\n",
    "matDst = np.float32([[50,50],[300,height - 200],[width - 300,100]])\n",
    "#组合矩阵\n",
    "# cv2.getAffineTransform => 第一个参数原图片，第二个参数目标图片\n",
    "matAffine = cv2.getAffineTransform(matSrc,matDst)\n",
    "dst = cv2.warpAffine(img,matAffine,(width,height))\n",
    "cv2.imshow('dst',dst)\n",
    "cv2.waitKey(0)"
   ]
  },
  {
   "cell_type": "code",
   "execution_count": 24,
   "metadata": {},
   "outputs": [
    {
     "output_type": "execute_result",
     "data": {
      "text/plain": [
       "-1"
      ]
     },
     "metadata": {},
     "execution_count": 24
    }
   ],
   "source": [
    "# 2*3 \n",
    "# 旋转矩阵 \n",
    "# cv2.getAffineTransform => 第一个参数旋转中心，第二个参数旋转角度，第三个参数缩放\n",
    "matRotate = cv2.getRotationMatrix2D((height * 0.5, width * 0.5), 45, 0.5)\n",
    "#100*100 25 \n",
    "dst = cv2.warpAffine(img, matRotate, (height, width))\n",
    "cv2.imshow('dst',dst)\n",
    "cv2.waitKey(0)"
   ]
  },
  {
   "cell_type": "code",
   "execution_count": null,
   "metadata": {},
   "outputs": [],
   "source": []
  }
 ]
}