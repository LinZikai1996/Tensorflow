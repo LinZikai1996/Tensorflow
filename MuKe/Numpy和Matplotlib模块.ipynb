{
 "metadata": {
  "language_info": {
   "codemirror_mode": {
    "name": "ipython",
    "version": 3
   },
   "file_extension": ".py",
   "mimetype": "text/x-python",
   "name": "python",
   "nbconvert_exporter": "python",
   "pygments_lexer": "ipython3",
   "version": "3.7.6-final"
  },
  "orig_nbformat": 2,
  "kernelspec": {
   "name": "pycharm-5d798be8",
   "display_name": "PyCharm (machineLearning)",
   "language": "python"
  }
 },
 "nbformat": 4,
 "nbformat_minor": 2,
 "cells": [
  {
   "cell_type": "code",
   "execution_count": 3,
   "metadata": {},
   "outputs": [
    {
     "output_type": "stream",
     "name": "stdout",
     "text": [
      "[1 2 3 4 5]\n[[1 2]\n [3 4]]\n(5,) (2, 2)\n[[0. 0. 0. 0. 0.]\n [0. 0. 0. 0. 0.]] [[1. 1. 1. 1. 1.]\n [1. 1. 1. 1. 1.]]\n[[1 2]\n [5 4]]\n4\n[[2. 2. 2.]\n [2. 2. 2.]]\n[[0.5 0.5 0.5]\n [0.5 0.5 0.5]]\n[[3. 3. 3.]\n [3. 3. 3.]]\n[[2. 3. 4.]\n [5. 6. 7.]]\n[[1. 2. 3.]\n [4. 5. 6.]]\n"
     ]
    }
   ],
   "source": [
    "import numpy as np\n",
    "\n",
    "data1 = np.array([1,2,3,4,5])\n",
    "print(data1)\n",
    "\n",
    "data2 = np.array([[1, 2],\n",
    "                  [3, 4]])\n",
    "print(data2)\n",
    "\n",
    "# 维度\n",
    "print(data1.shape, data2.shape)\n",
    "\n",
    "# 0矩阵，1矩阵\n",
    "print(np.zeros([2, 5]), np.ones([2, 5]))\n",
    "\n",
    "# 改查\n",
    "data2[1, 0] = 5\n",
    "print(data2)\n",
    "print(data2[1, 1])\n",
    "\n",
    "# 基本运算\n",
    "data3 = np.ones([2, 3])\n",
    "print(data3 * 2)\n",
    "print(data3 / 2)\n",
    "print(data3 + 2)\n",
    "\n",
    "# 矩阵\n",
    "data4 = np.array([[1,2,3],[4,5,6]])\n",
    "print(data3 + data4)\n",
    "print(data3 * data4)"
   ]
  },
  {
   "cell_type": "code",
   "execution_count": null,
   "metadata": {},
   "outputs": [],
   "source": [
    "import matplotlib.pyplot as plt\n",
    "\n",
    "x = np.array([1,2,3,4,5,6,7,8,9])\n",
    "y = np.array([2,3,4,5,6,7,8,9,10])\n",
    "# plot => 这个绘制折线图， 第一个参数是x，第二个是y, 第三个是颜色\n",
    "plt.plot(x，y，'r')"
   ]
  }
 ]
}