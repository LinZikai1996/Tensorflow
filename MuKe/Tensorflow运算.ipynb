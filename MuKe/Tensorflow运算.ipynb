{
 "cells": [
  {
   "cell_type": "code",
   "execution_count": 1,
   "metadata": {
    "collapsed": true
   },
   "outputs": [
    {
     "output_type": "stream",
     "name": "stdout",
     "text": [
      "Tensor(\"Const:0\", shape=(), dtype=float32)\n<tf.Variable 'var:0' shape=() dtype=int32_ref>\n"
     ]
    }
   ],
   "source": [
    "import tensorflow as tf\n",
    "\n",
    "# 常量\n",
    "data1 = tf.constant(2.5)\n",
    "# 变量\n",
    "data2 = tf.Variable(10, name='var')\n",
    "# 打印数据的描述信息\n",
    "print(data1)\n",
    "print(data2)"
   ]
  },
  {
   "cell_type": "code",
   "execution_count": 2,
   "outputs": [
    {
     "output_type": "stream",
     "name": "stdout",
     "text": [
      "2.5\n10\n"
     ]
    }
   ],
   "source": [
    "sess = tf.Session()\n",
    "print(sess.run(data1))\n",
    "# 报错, 需要使用session 进行初始化\n",
    "# print(sess.run(data2))\n",
    "init = tf.global_variables_initializer()\n",
    "sess.run(init)\n",
    "print(sess.run(data2))\n",
    "sess.close()\n"
   ],
   "metadata": {
    "collapsed": false,
    "pycharm": {
     "name": "#%%\n"
    }
   }
  },
  {
   "cell_type": "code",
   "execution_count": 3,
   "outputs": [
    {
     "output_type": "stream",
     "name": "stdout",
     "text": [
      "10\n"
     ]
    }
   ],
   "source": [
    "# 本质： tensorflow = tensor +  graphs(计算图)\n",
    "# tensor 本质数据\n",
    "# op => operation 操作, 赋值或者四则运算\n",
    "# graphs 数据操作\n",
    "# 所有都要放到session中执行, session是核心\n",
    "# 使用with关键字\n",
    "init = tf.global_variables_initializer()\n",
    "sess = tf.Session()\n",
    "with sess:\n",
    "    sess.run(init)\n",
    "    print(sess.run(data2))"
   ],
   "metadata": {
    "collapsed": false,
    "pycharm": {
     "name": "#%%\n"
    }
   }
  },
  {
   "cell_type": "code",
   "execution_count": 4,
   "outputs": [
    {
     "output_type": "stream",
     "name": "stdout",
     "text": [
      "8\n",
      "12\n",
      "4\n",
      "3.0\n",
      "end!\n"
     ]
    }
   ],
   "source": [
    "# 常量运算\n",
    "data1 = tf.constant(6)\n",
    "data2 = tf.constant(2)\n",
    "dataAdd = tf.add(data1,data2)\n",
    "dataMul = tf.multiply(data1,data2)\n",
    "dataSub = tf.subtract(data1,data2)\n",
    "dataDiv = tf.divide(data1,data2)\n",
    "with tf.Session() as sess:\n",
    "    print(sess.run(dataAdd))\n",
    "    print(sess.run(dataMul))\n",
    "    print(sess.run(dataSub))\n",
    "    print(sess.run(dataDiv))\n",
    "print(\"end!\")"
   ],
   "metadata": {
    "collapsed": false,
    "pycharm": {
     "name": "#%%\n"
    }
   }
  },
  {
   "cell_type": "code",
   "execution_count": 5,
   "outputs": [
    {
     "output_type": "stream",
     "name": "stdout",
     "text": [
      "8\n12\n4\n3.0\ntest dataCopy\nsess.run(dataCopy) 8\ndataCopy.eval() 14\ntf.get_default_session() 20\nend!\n"
     ]
    }
   ],
   "source": [
    "# 变量运算\n",
    "data1 = tf.constant(6)\n",
    "data2 = tf.Variable(2)\n",
    "# 加减乘除\n",
    "dataAdd = tf.add(data1,data2)\n",
    "#  将dataAdd 运算得到的值赋值给data2\n",
    "dataCopy = tf.assign(data2, dataAdd)\n",
    "dataMul = tf.multiply(data1,data2)\n",
    "dataSub = tf.subtract(data1,data2)\n",
    "dataDiv = tf.divide(data1,data2)\n",
    "# 初始化\n",
    "init = tf.global_variables_initializer()\n",
    "with tf.Session() as sess:\n",
    "    sess.run(init)\n",
    "    print(sess.run(dataAdd))\n",
    "    print(sess.run(dataMul))\n",
    "    print(sess.run(dataSub))\n",
    "    print(sess.run(dataDiv))\n",
    "\n",
    "    print(\"test dataCopy\")\n",
    "    print(\"sess.run(dataCopy)\", sess.run(dataCopy))\n",
    "    print(\"dataCopy.eval()\", dataCopy.eval())\n",
    "    print(\"tf.get_default_session()\", tf.get_default_session().run(dataCopy))\n",
    "print(\"end!\")"
   ],
   "metadata": {
    "collapsed": false,
    "pycharm": {
     "name": "#%%\n"
    }
   }
  },
  {
   "cell_type": "code",
   "execution_count": null,
   "outputs": [],
   "source": [
    "# placeholder 实时插入数据\n",
    "data1 = tf.placeholder(tf.float32)\n",
    "data2 = tf.placeholder(tf.float32)\n",
    "\n",
    "dataAdd = tf.add(data1, data2)\n",
    "with tf.Session() as sess:\n",
    "    # 第一个参数是运算结果, 第二参数是 (feed_dict = {value1:value, value:value})\n",
    "    print(sess.run(dataAdd, feed_dict={data1: 6, data2: 2}))\n",
    "print(\"end\")"
   ],
   "metadata": {
    "collapsed": false,
    "pycharm": {
     "name": "#%%\n"
    }
   }
  },
  {
   "cell_type": "code",
   "execution_count": null,
   "outputs": [],
   "source": [
    "data1 = tf.constant([[6,6]])\n",
    "data2 = tf.constant([[2],\n",
    "                    [2]])\n",
    "data3 = tf.constant([[3,3]])\n",
    "data4 = tf.constant([[1,2],\n",
    "                    [3,4],\n",
    "                    [5,6]])\n",
    "matMul_1_2 = tf.matmul(data1, data2)\n",
    "\n",
    "matMul_2_1 = tf.matmul(data2, data1)\n",
    "\n",
    "matAdd = tf.add(data1, data3)\n",
    "\n",
    "print(data4.shape)\n",
    "\n",
    "with tf.Session() as sess:\n",
    "    # 打印整体\n",
    "    print(sess.run(data4))\n",
    "    # 打印一行\n",
    "    print(sess.run(data4[0]))\n",
    "    # 打印一列\n",
    "    print(sess.run(data4[:,0]))\n",
    "    # 打印第一行，第一列\n",
    "    print(sess.run(data4[0,0]))\n",
    "    # 矩阵乘法\n",
    "    print(sess.run(matMul_1_2))\n",
    "    print(sess.run(matMul_2_1))\n",
    "    # 矩阵加法\n",
    "    print(sess.run(matAdd))\n",
    "    print(sess.run([matMul_1_2, matMul_2_1]))"
   ],
   "metadata": {
    "collapsed": false,
    "pycharm": {
     "name": "#%%\n"
    }
   }
  },
  {
   "cell_type": "code",
   "execution_count": null,
   "outputs": [],
   "source": [
    "mat_0 = tf.constant([[0, 0, 0], [0, 0, 0]])\n",
    "# 全0\n",
    "mat_1 = tf.zeros([2, 3])\n",
    "# 全1\n",
    "mat_2 = tf.ones([3, 2])\n",
    "# 全指定值\n",
    "mat_3 = tf.fill([2, 3], 15)\n",
    "with tf.Session() as sess:\n",
    "    print(sess.run(mat_0))\n",
    "    print(sess.run(mat_1))\n",
    "    print(sess.run(mat_2))\n",
    "    print(sess.run(mat_3))"
   ],
   "metadata": {
    "collapsed": false,
    "pycharm": {
     "name": "#%%\n"
    }
   }
  },
  {
   "cell_type": "code",
   "execution_count": null,
   "outputs": [],
   "source": [
    "mat_1 = tf.constant([[2], [3], [4]])\n",
    "mat_2 = tf.zeros_like(mat_1)\n",
    "mat_3 = tf.linspace(0.0, 2.0, 11)\n",
    "# 随机矩阵\n",
    "mat_4 = tf.random_uniform([2,3],-1,2)\n",
    "with tf.Session() as sess:\n",
    "    print(sess.run(mat_1))\n",
    "    print(sess.run(mat_2))\n",
    "    print(sess.run(mat_3))\n",
    "    print(sess.run(mat_4))"
   ],
   "metadata": {
    "collapsed": false,
    "pycharm": {
     "name": "#%%\n"
    }
   }
  },
  {
   "cell_type": "code",
   "execution_count": null,
   "outputs": [],
   "source": [],
   "metadata": {
    "collapsed": false,
    "pycharm": {
     "name": "#%%\n"
    }
   }
  },
  {
   "cell_type": "code",
   "execution_count": 6,
   "metadata": {},
   "outputs": [
    {
     "output_type": "stream",
     "name": "stdout",
     "text": [
      "8.0\nend\n"
     ]
    }
   ],
   "source": []
  },
  {
   "cell_type": "code",
   "execution_count": 9,
   "metadata": {},
   "outputs": [
    {
     "output_type": "stream",
     "name": "stdout",
     "text": [
      "(3, 2)\n[[1 2]\n [3 4]\n [5 6]]\n[1 2]\n[1 3 5]\n1\n[[24]]\n[[12 12]\n [12 12]]\n[[9 9]]\n[array([[24]]), array([[12, 12],\n       [12, 12]])]\n"
     ]
    }
   ],
   "source": [
    "data1 = tf.constant([[6,6]])\n",
    "data2 = tf.constant([[2],\n",
    "                    [2]])\n",
    "data3 = tf.constant([[3,3]])\n",
    "data4 = tf.constant([[1,2],\n",
    "                    [3,4],\n",
    "                    [5,6]])\n",
    "matMul_1_2 = tf.matmul(data1, data2)\n",
    "\n",
    "matMul_2_1 = tf.matmul(data2, data1)\n",
    "\n",
    "matAdd = tf.add(data1, data3)\n",
    "\n",
    "print(data4.shape)\n",
    "\n",
    "with tf.Session() as sess:\n",
    "    # 打印整体\n",
    "    print(sess.run(data4))\n",
    "    # 打印一行\n",
    "    print(sess.run(data4[0]))\n",
    "    # 打印一列\n",
    "    print(sess.run(data4[:,0]))\n",
    "    # 打印第一行，第一列\n",
    "    print(sess.run(data4[0,0]))\n",
    "    # 矩阵乘法\n",
    "    print(sess.run(matMul_1_2))\n",
    "    print(sess.run(matMul_2_1))\n",
    "    # 矩阵加法\n",
    "    print(sess.run(matAdd))\n",
    "    print(sess.run([matMul_1_2, matMul_2_1]))"
   ]
  },
  {
   "cell_type": "code",
   "execution_count": 12,
   "metadata": {},
   "outputs": [
    {
     "output_type": "stream",
     "name": "stdout",
     "text": [
      "[[0 0 0]\n [0 0 0]]\n[[0. 0. 0.]\n [0. 0. 0.]]\n[[1. 1.]\n [1. 1.]\n [1. 1.]]\n[[15 15 15]\n [15 15 15]]\n"
     ]
    }
   ],
   "source": [
    "mat_0 = tf.constant([[0, 0, 0], [0, 0, 0]])\n",
    "# 全0\n",
    "mat_1 = tf.zeros([2, 3])\n",
    "# 全1\n",
    "mat_2 = tf.ones([3, 2])\n",
    "# 全指定值\n",
    "mat_3 = tf.fill([2, 3], 15)\n",
    "with tf.Session() as sess:\n",
    "    print(sess.run(mat_0))\n",
    "    print(sess.run(mat_1))\n",
    "    print(sess.run(mat_2))\n",
    "    print(sess.run(mat_3))"
   ]
  },
  {
   "cell_type": "code",
   "execution_count": 14,
   "metadata": {},
   "outputs": [
    {
     "output_type": "stream",
     "name": "stdout",
     "text": [
      "[[2]\n [3]\n [4]]\n[[0]\n [0]\n [0]]\n[0.        0.2       0.4       0.6       0.8       1.        1.2\n 1.4       1.6       1.8000001 2.       ]\n[[ 0.7946317  1.4028666  1.9227102]\n [ 1.7258863 -0.6720731  1.0476704]]\n"
     ]
    }
   ],
   "source": [
    "mat_1 = tf.constant([[2], [3], [4]])\n",
    "mat_2 = tf.zeros_like(mat_1)\n",
    "mat_3 = tf.linspace(0.0, 2.0, 11)\n",
    "# 随机矩阵\n",
    "mat_4 = tf.random_uniform([2,3],-1,2)\n",
    "with tf.Session() as sess:\n",
    "    print(sess.run(mat_1))\n",
    "    print(sess.run(mat_2))\n",
    "    print(sess.run(mat_3))\n",
    "    print(sess.run(mat_4))"
   ]
  },
  {
   "cell_type": "code",
   "execution_count": null,
   "metadata": {},
   "outputs": [],
   "source": []
  }
 ],
 "metadata": {
  "kernelspec": {
   "name": "pycharm-5d798be8",
   "language": "python",
   "display_name": "PyCharm (machineLearning)"
  },
  "language_info": {
   "codemirror_mode": {
    "name": "ipython",
    "version": 2
   },
   "file_extension": ".py",
   "mimetype": "text/x-python",
   "name": "python",
   "nbconvert_exporter": "python",
   "pygments_lexer": "ipython2",
   "version": "3.7.6-final"
  }
 },
 "nbformat": 4,
 "nbformat_minor": 0
}