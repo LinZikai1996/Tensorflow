{
 "metadata": {
  "language_info": {
   "codemirror_mode": {
    "name": "ipython",
    "version": 3
   },
   "file_extension": ".py",
   "mimetype": "text/x-python",
   "name": "python",
   "nbconvert_exporter": "python",
   "pygments_lexer": "ipython3",
   "version": "3.7.6-final"
  },
  "orig_nbformat": 2,
  "kernelspec": {
   "name": "pycharm-5d798be8",
   "display_name": "PyCharm (machineLearning)",
   "language": "python"
  }
 },
 "nbformat": 4,
 "nbformat_minor": 2,
 "cells": [
  {
   "cell_type": "code",
   "execution_count": 1,
   "metadata": {},
   "outputs": [
    {
     "output_type": "stream",
     "name": "stdout",
     "text": [
      "(547, 730, 3)\n"
     ]
    }
   ],
   "source": [
    "import cv2\n",
    "img = cv2.imread(\"E:\\\\project\\\\python\\\\Tensorflow\\\\MuKe\\\\pic\\\\image0.jpg\", 1)\n",
    "\n",
    "img_info = img.shape\n",
    "print(img_info)\n",
    "# 长，宽，通道\n",
    "height = img_info[0]\n",
    "width = img_info[1]\n",
    "mode = img_info[2]"
   ]
  },
  {
   "cell_type": "code",
   "execution_count": 2,
   "metadata": {},
   "outputs": [
    {
     "output_type": "execute_result",
     "data": {
      "text/plain": [
       "-1"
      ]
     },
     "metadata": {},
     "execution_count": 2
    }
   ],
   "source": [
    "# 1 放大 缩小 2 等比缩放 非等比例缩放\n",
    "dst_height = int(height * 0.5)\n",
    "dst_width = int(width * 0.5)\n",
    "\n",
    "# 四种缩放方式\n",
    "# 最近邻域插值 双线性插值(最常用) 像素关系重采样 立方插值\n",
    "dst = cv2.resize(img, (dst_width, dst_height))\n",
    "cv2.imshow('image', dst)\n",
    "cv2.waitKey(0)"
   ]
  },
  {
   "cell_type": "code",
   "execution_count": 3,
   "metadata": {},
   "outputs": [
    {
     "output_type": "execute_result",
     "data": {
      "text/plain": [
       "-1"
      ]
     },
     "metadata": {},
     "execution_count": 3
    }
   ],
   "source": [
    "# 最近邻域插值(手动实现)\n",
    "# dst 图像上每一个点都可以来自 src 图像上的点 => (2, 4) -> (1, 2)\n",
    "# src_x = new_x * (src_height / dst_height)\n",
    "# src_y = new_y * (src_width / dst_width)\n",
    "# 12.3 取 12 \n",
    "\n",
    "import numpy as np\n",
    "\n",
    "# np.uint8 范围 0 - 255\n",
    "dst_image = np.zeros([dst_height, dst_width, 3], np.uint8)\n",
    "\n",
    "# 行\n",
    "for i in range(0, dst_height):\n",
    "    # 列\n",
    "    for j in range(0, dst_width):\n",
    "        src_i = int(i * (height * 1.0 / dst_height))\n",
    "        src_j = int(j * (width * 1.0 / dst_width))\n",
    "        dst_image[i, j] = img[src_i, src_j]\n",
    "\n",
    "cv2.imshow(\"dst\", dst_image)\n",
    "cv2.waitKey(0)"
   ]
  },
  {
   "cell_type": "code",
   "execution_count": 4,
   "metadata": {},
   "outputs": [
    {
     "output_type": "execute_result",
     "data": {
      "text/plain": [
       "-1"
      ]
     },
     "metadata": {},
     "execution_count": 4
    }
   ],
   "source": [
    "# 图片剪切\n",
    "dst = img[100:300, 100: 300]\n",
    "cv2.imshow(\"dst\", dst)\n",
    "cv2.waitKey(0)"
   ]
  },
  {
   "cell_type": "code",
   "execution_count": 5,
   "metadata": {},
   "outputs": [
    {
     "output_type": "execute_result",
     "data": {
      "text/plain": [
       "-1"
      ]
     },
     "metadata": {},
     "execution_count": 5
    }
   ],
   "source": [
    "# 图片位移\n",
    "# 2 × 3 矩阵 => 2 × 2 A  2 × 1 B\n",
    "# [[1, 0], [0, 1]] A\n",
    "# [[100], [200]]  B\n",
    "# [[x], [y]]     C\n",
    "mat_shift = np.float64([[1, 0, 100], [0, 1, 200]])\n",
    "# cv2.warpAffine => 第一个参数数据信息，第二个参数移位矩阵，第三个图片信息\n",
    "# A * C + B\n",
    "dst = cv2.warpAffine(img, mat_shift, (height, width))\n",
    "cv2.imshow(\"dst\", dst)\n",
    "cv2.waitKey(0)"
   ]
  },
  {
   "cell_type": "code",
   "execution_count": 6,
   "metadata": {},
   "outputs": [
    {
     "output_type": "execute_result",
     "data": {
      "text/plain": [
       "-1"
      ]
     },
     "metadata": {},
     "execution_count": 6
    }
   ],
   "source": [
    "# 图片位移(手动实现)\n",
    "dst = np.zeros(img_info, np.uint8)\n",
    "# 行\n",
    "for i in range(0, height):\n",
    "    # 列\n",
    "    for j in range(0, width  - 100):\n",
    "        dst[i, j + 100] = img[i, j]\n",
    "\n",
    "cv2.imshow(\"dst\", dst)\n",
    "cv2.waitKey(0)"
   ]
  },
  {
   "cell_type": "code",
   "execution_count": 7,
   "metadata": {},
   "outputs": [
    {
     "output_type": "execute_result",
     "data": {
      "text/plain": [
       "-1"
      ]
     },
     "metadata": {},
     "execution_count": 7
    }
   ],
   "source": [
    "# 图片镜像\n",
    "dst_info = (height * 2, width, 3)\n",
    "dst = np.zeros(dst_info, np.uint8)\n",
    "#行\n",
    "for i in range(0, height):\n",
    "    # 列\n",
    "    for j in range(0, width):\n",
    "        dst[i, j] = img[i, j]\n",
    "        # x = 2 * height - y -1\n",
    "        dst[height * 2 - i -1, j] = img[i, j]\n",
    "\n",
    "for i in range(0, width):\n",
    "    dst[height, i] = (0, 0, 255)\n",
    "cv2.imshow(\"dst\", dst)\n",
    "cv2.waitKey(0)"
   ]
  },
  {
   "cell_type": "code",
   "execution_count": 8,
   "metadata": {},
   "outputs": [
    {
     "output_type": "execute_result",
     "data": {
      "text/plain": [
       "-1"
      ]
     },
     "metadata": {},
     "execution_count": 8
    }
   ],
   "source": [
    "# 图片位移函数实现缩放\n",
    "mat_shift = np.float64([[0.5, 0, 0], [0, 0.5, 0]])\n",
    "\n",
    "dst = cv2.warpAffine(img, mat_shift, (int(width / 2), int(height / 2 )))\n",
    "cv2.imshow(\"dst\", dst)\n",
    "cv2.waitKey(0)"
   ]
  },
  {
   "cell_type": "code",
   "execution_count": 9,
   "metadata": {},
   "outputs": [
    {
     "output_type": "execute_result",
     "data": {
      "text/plain": [
       "-1"
      ]
     },
     "metadata": {},
     "execution_count": 9
    }
   ],
   "source": [
    "# 仿射变化\n",
    "#src 3->dst 3 (左上角 左下角 右上角)\n",
    "matSrc = np.float32([[0,0],[0,height - 1],[width - 1,0]])\n",
    "matDst = np.float32([[50,50],[300,height - 200],[width - 300,100]])\n",
    "#组合矩阵\n",
    "# cv2.getAffineTransform => 第一个参数原图片，第二个参数目标图片\n",
    "matAffine = cv2.getAffineTransform(matSrc,matDst)\n",
    "dst = cv2.warpAffine(img,matAffine,(width,height))\n",
    "cv2.imshow('dst',dst)\n",
    "cv2.waitKey(0)"
   ]
  },
  {
   "cell_type": "code",
   "execution_count": 10,
   "metadata": {},
   "outputs": [
    {
     "output_type": "execute_result",
     "data": {
      "text/plain": [
       "-1"
      ]
     },
     "metadata": {},
     "execution_count": 10
    }
   ],
   "source": [
    "# 2*3 \n",
    "# 旋转矩阵 \n",
    "# cv2.getAffineTransform => 第一个参数旋转中心，第二个参数旋转角度，第三个参数缩放\n",
    "matRotate = cv2.getRotationMatrix2D((height * 0.5, width * 0.5), 45, 0.5)\n",
    "#100*100 25 \n",
    "dst = cv2.warpAffine(img, matRotate, (height, width))\n",
    "cv2.imshow('dst',dst)\n",
    "cv2.waitKey(0)"
   ]
  },
  {
   "cell_type": "code",
   "execution_count": 11,
   "metadata": {},
   "outputs": [
    {
     "output_type": "stream",
     "name": "stdout",
     "text": [
      "(547, 730)\n(547, 730, 3)\n"
     ]
    },
    {
     "output_type": "execute_result",
     "data": {
      "text/plain": [
       "-1"
      ]
     },
     "metadata": {},
     "execution_count": 11
    }
   ],
   "source": [
    "# 图片特效\n",
    "# 灰度处理 -- 方法 1  \n",
    "img_0 = cv2.imread(\"E:\\\\project\\\\python\\\\Tensorflow\\\\MuKe\\\\pic\\\\image0.jpg\", 0)\n",
    "img_1 = cv2.imread(\"E:\\\\project\\\\python\\\\Tensorflow\\\\MuKe\\\\pic\\\\image0.jpg\", 1)\n",
    "\n",
    "print(img_0.shape)\n",
    "print(img_1.shape)\n",
    "cv2.imshow('img_0',img_0)\n",
    "cv2.waitKey(0)"
   ]
  },
  {
   "cell_type": "code",
   "execution_count": 12,
   "metadata": {},
   "outputs": [
    {
     "output_type": "execute_result",
     "data": {
      "text/plain": [
       "-1"
      ]
     },
     "metadata": {},
     "execution_count": 12
    }
   ],
   "source": [
    "# 灰度处理 -- 方法 2\n",
    "# cv2.cvtColor =>  颜色空间转化，第一个参数原图片，第二个参数转化方式\n",
    "dst = cv2.cvtColor(img, cv2.COLOR_RGB2GRAY)\n",
    "cv2.imshow('dst',dst)\n",
    "cv2.waitKey(0)"
   ]
  },
  {
   "cell_type": "code",
   "execution_count": 13,
   "metadata": {},
   "outputs": [
    {
     "output_type": "execute_result",
     "data": {
      "text/plain": [
       "-1"
      ]
     },
     "metadata": {},
     "execution_count": 13
    }
   ],
   "source": [
    "# 灰度处理 -- 方法 3\n",
    "dst = np.zeros(img_info, np.uint8)\n",
    "#行\n",
    "for i in range(0, height):\n",
    "    # 列\n",
    "    for j in range(0, width):\n",
    "        (b, g, r) = img[i, j]\n",
    "        # gray = (R + G + B) / 3\n",
    "        gray = (int(b) + int(g) + int(r)) / 3\n",
    "        dst[i, j] = np.uint8(gray)\n",
    "\n",
    "cv2.imshow('dst',dst)\n",
    "cv2.waitKey(0)       "
   ]
  },
  {
   "cell_type": "code",
   "execution_count": 14,
   "metadata": {},
   "outputs": [
    {
     "output_type": "execute_result",
     "data": {
      "text/plain": [
       "-1"
      ]
     },
     "metadata": {},
     "execution_count": 14
    }
   ],
   "source": [
    "# 灰度处理 -- 方法 4\n",
    "dst = np.zeros(img_info, np.uint8)\n",
    "#行\n",
    "for i in range(0, height):\n",
    "    # 列\n",
    "    for j in range(0, width):\n",
    "        (b, g, r) = img[i, j]\n",
    "        # gray = R * 0.299 + G * 0.587 + B * 0.114\n",
    "        gray = (int(b) * 0.114 + int(g) * 0.587 + int(r) * 0.299)\n",
    "        dst[i, j] = np.uint8(gray)\n",
    "\n",
    "cv2.imshow('dst',dst)\n",
    "cv2.waitKey(0)     "
   ]
  },
  {
   "cell_type": "code",
   "execution_count": 15,
   "metadata": {},
   "outputs": [
    {
     "output_type": "execute_result",
     "data": {
      "text/plain": [
       "-1"
      ]
     },
     "metadata": {},
     "execution_count": 15
    }
   ],
   "source": [
    "# 灰度处理 -- 方法 5(优化方法4，浮点运算 >> 定点运算)\n",
    "dst = np.zeros(img_info, np.uint8)\n",
    "#行\n",
    "for i in range(0, height):\n",
    "    # 列\n",
    "    for j in range(0, width):\n",
    "        (b, g, r) = img[i, j]\n",
    "        # gray = (R * 1+ G * 2 + B * 1) / 4\n",
    "        gray = (int(b) * 1 + int(g) * 2 + int(r) * 1) / 4\n",
    "        dst[i, j] = np.uint8(gray)\n",
    "\n",
    "cv2.imshow('dst',dst)\n",
    "cv2.waitKey(0) "
   ]
  },
  {
   "cell_type": "code",
   "execution_count": 16,
   "metadata": {},
   "outputs": [
    {
     "output_type": "execute_result",
     "data": {
      "text/plain": [
       "-1"
      ]
     },
     "metadata": {},
     "execution_count": 16
    }
   ],
   "source": [
    "# 灰度处理 -- 方法 6(优化方法5，定点运算 >> 移位运算)\n",
    "dst = np.zeros(img_info, np.uint8)\n",
    "#行\n",
    "for i in range(0, height):\n",
    "    # 列\n",
    "    for j in range(0, width):\n",
    "        (b, g, r) = img[i, j]\n",
    "        # gray = (R + (G <<1) + B) >> 2\n",
    "        gray = (int(b) + (int(g)<<1) + int(r)) >> 2\n",
    "        dst[i, j] = np.uint8(gray)\n",
    "\n",
    "cv2.imshow('dst',dst)\n",
    "cv2.waitKey(0) "
   ]
  },
  {
   "cell_type": "code",
   "execution_count": 17,
   "metadata": {},
   "outputs": [
    {
     "output_type": "execute_result",
     "data": {
      "text/plain": [
       "-1"
      ]
     },
     "metadata": {},
     "execution_count": 17
    }
   ],
   "source": [
    "# 灰色图片颜色反转\n",
    "# 255 - 当前颜色的灰度\n",
    "gray = cv2.cvtColor(img, cv2.COLOR_RGB2GRAY)\n",
    "dst = np.zeros([height, width, 1], np.uint8)\n",
    "#行\n",
    "for i in range(0, height):\n",
    "    # 列\n",
    "    for j in range(0, width):\n",
    "        gray_pixel =gray[i, j]\n",
    "        dst[i, j] = 255 - gray_pixel\n",
    "        \n",
    "cv2.imshow('dst',dst)\n",
    "cv2.waitKey(0)         "
   ]
  },
  {
   "cell_type": "code",
   "execution_count": 18,
   "metadata": {},
   "outputs": [
    {
     "output_type": "execute_result",
     "data": {
      "text/plain": [
       "-1"
      ]
     },
     "metadata": {},
     "execution_count": 18
    }
   ],
   "source": [
    "# 彩色图片颜色反转\n",
    "dst = np.zeros([height, width, 3], np.uint8)\n",
    "# 行\n",
    "for i in range(0, height):\n",
    "    # 列\n",
    "    for j in range(0, width):\n",
    "        (b, g, r) =img[i, j]\n",
    "        dst[i, j] = (255 - b, 255 -g, 255 - r)\n",
    "        \n",
    "cv2.imshow('dst',dst)\n",
    "cv2.waitKey(0)   "
   ]
  },
  {
   "cell_type": "code",
   "execution_count": 19,
   "metadata": {},
   "outputs": [
    {
     "output_type": "execute_result",
     "data": {
      "text/plain": [
       "-1"
      ]
     },
     "metadata": {},
     "execution_count": 19
    }
   ],
   "source": [
    "# 马赛克\n",
    "# 将一个像素覆盖整个矩形框里的像素\n",
    "dst = cv2.imread(\"E:\\\\project\\\\python\\\\Tensorflow\\\\MuKe\\\\pic\\\\image0.jpg\", 1)\n",
    "for m in range (100, 300):\n",
    "    for n in range (100, 200):\n",
    "        if m % 10 == 0 and n % 10 == 0:\n",
    "            for i in range (0, 10):\n",
    "                for j in range (0, 10):\n",
    "                    (b, g, r) = dst[m, n]\n",
    "                    dst[i + m, j + n] = (b, g, r)\n",
    "\n",
    "cv2.imshow('dst',dst)\n",
    "cv2.waitKey(0)   "
   ]
  },
  {
   "cell_type": "code",
   "execution_count": 20,
   "metadata": {},
   "outputs": [
    {
     "output_type": "execute_result",
     "data": {
      "text/plain": [
       "-1"
      ]
     },
     "metadata": {},
     "execution_count": 20
    }
   ],
   "source": [
    "# 毛玻璃效果\n",
    "import random\n",
    "dst = np.zeros(img_info, np.uint8)\n",
    "mm = 8\n",
    "# 行\n",
    "for i in range(0, height - mm):\n",
    "    # 列\n",
    "    for j in range(0, width - mm):\n",
    "        index = int(random.random() * 8)\n",
    "        (b, g, r) =img[i + index, j + index]\n",
    "        dst[i, j] = (b, g, r)\n",
    "\n",
    "cv2.imshow('dst',dst)\n",
    "cv2.waitKey(0)   "
   ]
  },
  {
   "cell_type": "code",
   "execution_count": 21,
   "metadata": {},
   "outputs": [
    {
     "output_type": "execute_result",
     "data": {
      "text/plain": [
       "-1"
      ]
     },
     "metadata": {},
     "execution_count": 21
    }
   ],
   "source": [
    "# 图片融合\n",
    "img_2 = cv2.imread(\"E:\\\\project\\\\python\\\\Tensorflow\\\\MuKe\\\\pic\\\\image2.jpg\")\n",
    "\n",
    "# ROI\n",
    "roi_height = int(height / 2)\n",
    "roi_width = int(width / 2)\n",
    "\n",
    "img1_ROI = img[0:roi_height, 0:roi_width]\n",
    "img2_ROI = img_2[0:roi_height, 0:roi_width]\n",
    "\n",
    "dst = np.zeros([roi_height, roi_width, 3], np.uint8)\n",
    "# cv2.addWeighted => 结果为两权重相加, 第一个参数图片1，第二个参数图片1权重，第三个参数图片2，第四个参数图片2权重\n",
    "# \n",
    "dst = cv2.addWeighted(img1_ROI, 0.5, img2_ROI, 0.5, 0)\n",
    "\n",
    "cv2.imshow('dst',dst)\n",
    "cv2.waitKey(0)"
   ]
  },
  {
   "cell_type": "code",
   "execution_count": 22,
   "metadata": {},
   "outputs": [
    {
     "output_type": "execute_result",
     "data": {
      "text/plain": [
       "-1"
      ]
     },
     "metadata": {},
     "execution_count": 22
    }
   ],
   "source": [
    "# 边缘检测 canny算子\n",
    "# 1 灰度处理\n",
    "gray = cv2.cvtColor(img, cv2.COLOR_RGB2GRAY)\n",
    "# 2 高斯滤波\n",
    "img_G = cv2.GaussianBlur(gray, (3, 3), 0)\n",
    "# canny算子\n",
    "dst = cv2.Canny(img_G, 50, 50)\n",
    "\n",
    "cv2.imshow('dst',dst)\n",
    "cv2.waitKey(0)"
   ]
  },
  {
   "cell_type": "code",
   "execution_count": 23,
   "metadata": {},
   "outputs": [
    {
     "output_type": "execute_result",
     "data": {
      "text/plain": [
       "-1"
      ]
     },
     "metadata": {},
     "execution_count": 23
    }
   ],
   "source": [
    "# 边缘检测 sobel算子\n",
    "import math\n",
    "gray = cv2.cvtColor(img, cv2.COLOR_RGB2GRAY)\n",
    "dst = np.zeros([height, width, 1], np.uint8)\n",
    "# sobel 算子模板\n",
    "# y方向 [ 1 2 1        x方向[1 0 -1\n",
    "#       0 0 0               2 0 2\n",
    "#      -1 -2 -1]            1 0 -1]\n",
    "# 模板应用: [1 2 3 4] [a b c d] = a * 1 + b * 2 + c * 3 + d * 4 = dst\n",
    "# sqrt(xx + yy)\n",
    "\n",
    " # 行\n",
    "for i in range(0, height - 2):\n",
    "    # 列\n",
    "    for j in range(0, width - 2):\n",
    "        gy = gray[i,j]*1+gray[i,j+1]*2+gray[i,j+2]*1-gray[i+2,j]*1-gray[i+2,j+1]*2-gray[i+2,j+2]*1\n",
    "        gx = gray[i,j]+gray[i+1,j]*2+gray[i+2,j]-gray[i,j+2]-gray[i+1,j+2]*2-gray[i+2,j+2]\n",
    "        grad = math.sqrt(gx*gx+gy*gy)\n",
    "        if grad>50:\n",
    "            dst[i,j] = 255\n",
    "        else:\n",
    "            dst[i,j] = 0\n",
    "\n",
    "cv2.imshow('dst',dst)\n",
    "cv2.waitKey(0)\n"
   ]
  },
  {
   "cell_type": "code",
   "execution_count": 24,
   "metadata": {},
   "outputs": [
    {
     "output_type": "execute_result",
     "data": {
      "text/plain": [
       "-1"
      ]
     },
     "metadata": {},
     "execution_count": 24
    }
   ],
   "source": [
    "# 浮雕效果\n",
    "gray = cv2.cvtColor(img, cv2.COLOR_RGB2GRAY)\n",
    "dst = np.zeros([height, width, 1], np.uint8)\n",
    "# 行\n",
    "for i in range(0, height):\n",
    "    # 列\n",
    "    for j in range(0, width - 1):\n",
    "        gray_1 = int(gray[i, j])\n",
    "        gray_2 = int(gray[i, j + 1])\n",
    "        new_p = gray_1 - gray_2 + 150\n",
    "\n",
    "        if new_p > 255:\n",
    "            new_p = 255\n",
    "        if new_p < 0:\n",
    "            new_p = 0\n",
    "        dst[i, j] = new_p\n",
    "cv2.imshow('dst',dst)\n",
    "cv2.waitKey(0)"
   ]
  },
  {
   "cell_type": "code",
   "execution_count": 25,
   "metadata": {},
   "outputs": [
    {
     "output_type": "execute_result",
     "data": {
      "text/plain": [
       "-1"
      ]
     },
     "metadata": {},
     "execution_count": 25
    }
   ],
   "source": [
    "# 颜色风格\n",
    "# 蓝色风格\n",
    "# b = b * 1.5\n",
    "# g = g * 1.3\n",
    "dst = np.zeros([height, width, 3], np.uint8)\n",
    "# 行\n",
    "for i in range(0, height):\n",
    "    # 列\n",
    "    for j in range(0, width - 1):\n",
    "        (b,g,r) = img[i,j]\n",
    "        b = b * 1.5\n",
    "        g = g * 1.3\n",
    "        if b > 255:\n",
    "            b = 255\n",
    "        if g > 255:\n",
    "            g = 255\n",
    "        dst[i,j]=(b,g,r)\n",
    "\n",
    "cv2.imshow('dst',dst)\n",
    "cv2.waitKey(0)"
   ]
  },
  {
   "cell_type": "code",
   "execution_count": 26,
   "metadata": {},
   "outputs": [
    {
     "output_type": "execute_result",
     "data": {
      "text/plain": [
       "163"
      ]
     },
     "metadata": {},
     "execution_count": 26
    }
   ],
   "source": [
    "# 油画效果\n",
    "gray = cv2.cvtColor(img,cv2.COLOR_BGR2GRAY)\n",
    "dst = np.zeros((height,width,3),np.uint8)\n",
    "for i in range(4,height-4):\n",
    "    for j in range(4,width-4):\n",
    "        array1 = np.zeros(8,np.uint8)\n",
    "        for m in range(-4,4):\n",
    "            for n in range(-4,4):\n",
    "                p1 = int(gray[i+m,j+n]/32)\n",
    "                array1[p1] = array1[p1]+1\n",
    "        currentMax = array1[0]\n",
    "        l = 0\n",
    "        for k in range(0,8):\n",
    "            if currentMax<array1[k]:\n",
    "                currentMax = array1[k]\n",
    "                l = k\n",
    "        # 简化 均值\n",
    "        for m in range(-4,4):\n",
    "            for n in range(-4,4):\n",
    "                if gray[i+m,j+n]>=(l*32) and gray[i+m,j+n]<=((l+1)*32):\n",
    "                    (b,g,r) = img[i+m,j+n]\n",
    "        dst[i,j] = (b,g,r)\n",
    "cv2.imshow('dst',dst)\n",
    "cv2.waitKey(0)"
   ]
  },
  {
   "cell_type": "code",
   "execution_count": 27,
   "metadata": {},
   "outputs": [
    {
     "output_type": "execute_result",
     "data": {
      "text/plain": [
       "172"
      ]
     },
     "metadata": {},
     "execution_count": 27
    }
   ],
   "source": [
    "# 绘制线段\n",
    "dst = np.zeros(img_info,np.uint8)\n",
    "# cv2.line => 绘制线段, 第一个参数图片，第二个参数起点，第三个参数终点，第四个参数颜色，第五个参数粗细，第六个参数线段类型\n",
    "\n",
    "cv2.line(dst,(100,100),(400,400),(0,0,255))\n",
    "\n",
    "cv2.line(dst,(100,200),(400,200),(0,255,255),20)\n",
    "\n",
    "cv2.line(dst,(100,300),(400,300),(0,255,0),20,cv2.LINE_AA)\n",
    "\n",
    "cv2.line(dst,(200,150),(50,250),(25,100,255))\n",
    "cv2.line(dst,(50,250),(400,380),(25,100,255))\n",
    "cv2.line(dst,(400,380),(200,150),(25,100,255))\n",
    "\n",
    "cv2.imshow('dst',dst)\n",
    "cv2.waitKey(0)"
   ]
  },
  {
   "cell_type": "code",
   "execution_count": 7,
   "metadata": {},
   "outputs": [
    {
     "output_type": "execute_result",
     "data": {
      "text/plain": [
       "-1"
      ]
     },
     "metadata": {},
     "execution_count": 7
    }
   ],
   "source": [
    "dst = np.zeros(img_info,np.uint8)\n",
    "# cv2.rectangle => 绘制矩形, 第一个参数图片，第二个参数左上角，第三个参数右下角，第四个参数颜色，第五个参数是否填充，-1为填充，1以上表示线条宽度\n",
    "cv2.rectangle(dst, (50, 100), (200, 300), (255, 0, 0), -1)\n",
    "# cv2.circle => 绘制圆形, 第一个参数图片，第二个参数圆心，第三个参数半径，第四个参数颜色，第五个参数是否填充，-1为填充，1以上表示线条宽度\n",
    "cv2.circle(dst, (250, 250), (50), (0, 255, 0) , -1)\n",
    "# cv2.ellipse => 绘制椭圆形, 第一个参数图片，第二个参数圆心，第三个参数轴的长度，两个轴，第四个参数偏转角，第五个参数起始角度，第六个参数结束角度\n",
    "#                          第七个参数颜色，第八个参数是否填充，-1为填充，1以上表示线条宽度\n",
    "cv2.ellipse(dst, (300,300), (150, 100), 0, 0, 180,  (255, 255, 0), -1)\n",
    "\n",
    "cv2.imshow('dst',dst)\n",
    "cv2.waitKey(0)"
   ]
  },
  {
   "cell_type": "code",
   "execution_count": 8,
   "metadata": {},
   "outputs": [
    {
     "output_type": "execute_result",
     "data": {
      "text/plain": [
       "-1"
      ]
     },
     "metadata": {},
     "execution_count": 8
    }
   ],
   "source": [
    "img_0 = cv2.imread(\"E:\\\\project\\\\python\\\\Tensorflow\\\\MuKe\\\\pic\\\\image0.jpg\")\n",
    "\n",
    "font = cv2.FONT_HERSHEY_SIMPLEX\n",
    "cv2.rectangle(img_0, (200, 100), (500, 400),(255, 0, 0), 1)\n",
    "# cv2.putText => 绘制文字, 第一个参数图片，第二个参数文字内容，第三个参数坐标，第四个参数字体，第五个参数字体大小，第六个参数颜色\n",
    "#                          第七个参数粗细，第八个参数线条类型\n",
    "cv2.putText(img_0, 'this is flow', (100,300), font, 1, (200, 100, 255), 2, cv2.LINE_AA)\n",
    "cv2.imshow('dst',img_0)\n",
    "cv2.waitKey(0)"
   ]
  },
  {
   "cell_type": "code",
   "execution_count": 10,
   "metadata": {},
   "outputs": [
    {
     "output_type": "execute_result",
     "data": {
      "text/plain": [
       "-1"
      ]
     },
     "metadata": {},
     "execution_count": 10
    }
   ],
   "source": [
    "img_0 = cv2.imread(\"E:\\\\project\\\\python\\\\Tensorflow\\\\MuKe\\\\pic\\\\image0.jpg\")\n",
    "\n",
    "s_height = int(img_0.shape[0]*0.2)\n",
    "s_width = int(img_0.shape[1]*0.2)\n",
    "\n",
    "img_resize = cv2.resize(img_0, (s_width,s_height) )\n",
    "\n",
    "for i in range(0, s_height):\n",
    "    for j in range(0, s_width):\n",
    "        img_0[i + 200, j + 350] = img_resize[i,j]\n",
    "\n",
    "cv2.imshow('img_0',img_0)\n",
    "cv2.waitKey(0)"
   ]
  },
  {
   "cell_type": "code",
   "execution_count": null,
   "metadata": {},
   "outputs": [],
   "source": []
  }
 ]
}