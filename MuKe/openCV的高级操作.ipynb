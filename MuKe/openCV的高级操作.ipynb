{
 "metadata": {
  "language_info": {
   "codemirror_mode": {
    "name": "ipython",
    "version": 3
   },
   "file_extension": ".py",
   "mimetype": "text/x-python",
   "name": "python",
   "nbconvert_exporter": "python",
   "pygments_lexer": "ipython3",
   "version": "3.7.6-final"
  },
  "orig_nbformat": 2,
  "kernelspec": {
   "name": "pycharm-5d798be8",
   "display_name": "PyCharm (machineLearning)",
   "language": "python"
  }
 },
 "nbformat": 4,
 "nbformat_minor": 2,
 "cells": [
  {
   "cell_type": "code",
   "execution_count": 4,
   "metadata": {},
   "outputs": [
    {
     "output_type": "execute_result",
     "data": {
      "text/plain": [
       "-1"
      ]
     },
     "metadata": {},
     "execution_count": 4
    }
   ],
   "source": [
    "import cv2\n",
    "import numpy as np\n",
    "\n",
    "def Histogram(image, type):\n",
    "    color = (255, 255, 255)\n",
    "    window_name = \"Gray\"\n",
    "    if type == 31:\n",
    "        color = (255, 0, 0)\n",
    "        window_name = \"Blue Histogram\"\n",
    "    elif type == 32:\n",
    "        color = (0, 255, 0)\n",
    "        window_name = \"Green Histogram\"\n",
    "    elif type == 33:\n",
    "        color = (0, 0, 255)\n",
    "        window_name = \"Red Histogram\"\n",
    "    # cv2.calcHist => 计算直方图, 第一个参数图片，第二个参数计算直方图的通道，第三个参数蒙版（用不上），第四个参数0 -255， 有256个灰度，\n",
    "    #                           第五个参数值（0 - 255）\n",
    "    hist = cv2.calcHist([image], [0], None, [256], [0.0, 256.0])\n",
    "    # 最小值，最大值，最小值下标，最大值下标\n",
    "    minV, maxV, minL, maxL = cv2.minMaxLoc(hist)\n",
    "\n",
    "    hist_img = np.zeros([256, 256, 3], np.uint8)\n",
    "    for h in range(256):\n",
    "        # 归一化\n",
    "        inten_normal = int(hist[h] * 256 / maxV)\n",
    "        cv2.line(hist_img,(h, 256),(h, 256 - inten_normal), color)\n",
    "    cv2.imshow(window_name, hist_img)\n",
    "    return hist_img\n",
    "\n",
    "\n",
    "img = cv2.imread(\"E:\\\\project\\\\python\\\\Tensorflow\\\\MuKe\\\\pic\\\\image0.jpg\", 1)\n",
    "# 将当前图片分为R,G,B\n",
    "channels = cv2.split(img)\n",
    "for i in range(0,3):\n",
    "    Histogram(channels[i],31+i)\n",
    "cv2.waitKey(0)"
   ]
  },
  {
   "cell_type": "code",
   "execution_count": null,
   "metadata": {},
   "outputs": [],
   "source": []
  }
 ]
}